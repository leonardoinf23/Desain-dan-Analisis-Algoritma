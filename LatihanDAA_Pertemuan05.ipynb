{
  "nbformat": 4,
  "nbformat_minor": 0,
  "metadata": {
    "colab": {
      "provenance": []
    },
    "kernelspec": {
      "name": "python3",
      "display_name": "Python 3"
    },
    "language_info": {
      "name": "python"
    }
  },
  "cells": [
    {
      "cell_type": "code",
      "execution_count": 1,
      "metadata": {
        "colab": {
          "base_uri": "https://localhost:8080/"
        },
        "id": "n9Yy6chhOflH",
        "outputId": "c20e1f08-ade9-4c62-8ca2-5ef9188d86c3"
      },
      "outputs": [
        {
          "output_type": "stream",
          "name": "stdout",
          "text": [
            "Maximum contiguous sum is  131\n",
            "Maximum contiguous sum is  184\n"
          ]
        }
      ],
      "source": [
        "# @title Slide 14-15\n",
        "def maxCrossingSum(arr, l, m, h):\n",
        "    sm = 0\n",
        "    left_sum = -10000\n",
        "\n",
        "    for i in range(m, l-1, -1):\n",
        "        sm = sm + arr[i]\n",
        "\n",
        "        if (sm > left_sum):\n",
        "            left_sum = sm\n",
        "\n",
        "    sm = 0\n",
        "    right_sum = -1000\n",
        "    for i in range(m, h + 1):\n",
        "        sm = sm + arr[i]\n",
        "\n",
        "        if (sm > right_sum):\n",
        "            right_sum = sm\n",
        "\n",
        "    return max(left_sum + right_sum - arr[m], left_sum, right_sum)\n",
        "def maxSubArraySum(arr, l, h):\n",
        "    if (l > h):\n",
        "        return -10000\n",
        "    if (l == h):\n",
        "        return arr[l]\n",
        "\n",
        "    m = (l + h) // 2\n",
        "\n",
        "    return max(maxSubArraySum(arr, l, m-1),\n",
        "               maxSubArraySum(arr, m+1, h),\n",
        "               maxCrossingSum(arr, l, m, h))\n",
        "\n",
        "arr = [4, 12, 23, 9, 21, 1, 35, 2, 24]\n",
        "n = len(arr)\n",
        "\n",
        "max_sum = maxSubArraySum(arr, 0, n-1)\n",
        "print(\"Maximum contiguous sum is \", max_sum)\n",
        "\n",
        "arr = [12, 51, 23, 84, 5, 9]\n",
        "n = len(arr)\n",
        "\n",
        "max_sum = maxSubArraySum(arr, 0, n-1)\n",
        "print(\"Maximum contiguous sum is \", max_sum)"
      ]
    },
    {
      "cell_type": "code",
      "source": [
        "# @title Slide 26\n",
        "def mergeSort(arr):\n",
        "    if len(arr) > 1:\n",
        "        r = len(arr) // 2\n",
        "        L = arr[:r]\n",
        "        M = arr[r:]\n",
        "\n",
        "        mergeSort(L)\n",
        "        mergeSort(M)\n",
        "\n",
        "        i = j = k = 0\n",
        "\n",
        "        while i < len(L) and j < len(M):\n",
        "            if L[i] < M[j]:\n",
        "                arr[k] = L[i]\n",
        "                i += 1\n",
        "            else:\n",
        "                arr[k] = M[j]\n",
        "                j += 1\n",
        "            k += 1\n",
        "\n",
        "        while i < len(L):\n",
        "            arr[k] = L[i]\n",
        "            i += 1\n",
        "            k += 1\n",
        "\n",
        "        while j < len(M):\n",
        "            arr[k] = M[j]\n",
        "            j += 1\n",
        "            k += 1\n",
        "\n",
        "def printList(arr):\n",
        "    for i in range(len(arr)):\n",
        "        print(arr[i], end=\" \")\n",
        "    print()\n",
        "\n",
        "array = [8, 3, 2, 9, 7, 1, 5, 4, 6]\n",
        "mergeSort(array)\n",
        "print(\"Sorted array is:\")\n",
        "printList(array)"
      ],
      "metadata": {
        "colab": {
          "base_uri": "https://localhost:8080/"
        },
        "id": "GQ_RFK59P_DU",
        "outputId": "75cc2de2-2994-4b92-a036-cc9ee7dcdc61"
      },
      "execution_count": 8,
      "outputs": [
        {
          "output_type": "stream",
          "name": "stdout",
          "text": [
            "Sorted array is:\n",
            "1 2 3 4 5 6 7 8 9 \n"
          ]
        }
      ]
    },
    {
      "cell_type": "code",
      "source": [
        "# @title Slide 28\n",
        "def insertion_sort(arr):\n",
        "    for i in range(1, len(arr)):\n",
        "        key = arr[i]\n",
        "        j = i - 1\n",
        "        while j >= 0 and key < arr[j]:\n",
        "            arr[j + 1] = arr[j]\n",
        "            j -= 1\n",
        "        arr[j + 1] = key\n",
        "    return arr\n",
        "\n",
        "arr = [4, 12, 23, 9, 21, 1, 5, 2]\n",
        "print(\"Sorted array is:\", insertion_sort(arr))"
      ],
      "metadata": {
        "colab": {
          "base_uri": "https://localhost:8080/"
        },
        "id": "iiOi3mXsQYXY",
        "outputId": "11172d0b-7d03-4f78-86f7-97f5433c5a54"
      },
      "execution_count": 10,
      "outputs": [
        {
          "output_type": "stream",
          "name": "stdout",
          "text": [
            "Sorted array is: [1, 2, 4, 5, 9, 12, 21, 23]\n"
          ]
        }
      ]
    },
    {
      "cell_type": "code",
      "source": [
        "# @title Slide 38\n",
        "def partition(array, low, high):\n",
        "    pivot = array[high]\n",
        "\n",
        "    i = low - 1\n",
        "\n",
        "    for j in range(low, high):\n",
        "        if array[j] <= pivot:\n",
        "            i = i + 1\n",
        "            (array[i], array[j]) = (array[j], array[i])\n",
        "\n",
        "    (array[i + 1], array[high]) = (array[high], array[i + 1])\n",
        "\n",
        "    return i + 1\n",
        "\n",
        "def quick_sort(array, low, high):\n",
        "    if low < high:\n",
        "        pi = partition(array, low, high)\n",
        "\n",
        "        quick_sort(array, low, pi - 1)\n",
        "\n",
        "        quick_sort(array, pi + 1, high)\n",
        "\n",
        "data = [1, 7, 4, 1, 10, 9, -2]\n",
        "print(\"Unsorted Array\")\n",
        "print(data)\n",
        "\n",
        "size = len(data)\n",
        "quick_sort(data, 0, size - 1)\n",
        "\n",
        "print('Sorted Array in Ascending Order:')\n",
        "print(data)"
      ],
      "metadata": {
        "colab": {
          "base_uri": "https://localhost:8080/"
        },
        "id": "npYrgRZ5QiQo",
        "outputId": "e041fc7c-cc9d-45e8-fa7e-256670e483b7"
      },
      "execution_count": 11,
      "outputs": [
        {
          "output_type": "stream",
          "name": "stdout",
          "text": [
            "Unsorted Array\n",
            "[1, 7, 4, 1, 10, 9, -2]\n",
            "Sorted Array in Ascending Order:\n",
            "[-2, 1, 1, 4, 7, 9, 10]\n"
          ]
        }
      ]
    },
    {
      "cell_type": "code",
      "source": [
        "# @title Slide 39-40\n",
        "def countInversion(arr):\n",
        "    result=0\n",
        "    for i in range(len(arr)):\n",
        "      for j in range(i+1,len(arr)):\n",
        "        if arr[i]>arr[j]:\n",
        "          result+=1\n",
        "        return result\n",
        "\n",
        "arr=[21, 70, 36, 14, 25]\n",
        "\n",
        "result=countInversion(arr)\n",
        "print(result)"
      ],
      "metadata": {
        "colab": {
          "base_uri": "https://localhost:8080/"
        },
        "id": "kpItJpM3QyS4",
        "outputId": "13480d5d-6ebf-44bc-ab53-187ab91f3735"
      },
      "execution_count": 14,
      "outputs": [
        {
          "output_type": "stream",
          "name": "stdout",
          "text": [
            "0\n"
          ]
        }
      ]
    },
    {
      "cell_type": "code",
      "source": [
        "def countInversion(arr):\n",
        "    icount=0\n",
        "    if len(arr)<=1:\n",
        "        return icount\n",
        "\n",
        "    mid=len(arr)//2\n",
        "    left=arr[:mid]\n",
        "    right=arr[mid:]\n",
        "    icount+=countInversion(left)\n",
        "    icount+=countInversion(right)\n",
        "    i=j=k=0\n",
        "\n",
        "    while i<len(left) and j<len(right):\n",
        "        if left[i]<right[j]:\n",
        "            arr[k]=left[i]\n",
        "            i+=1\n",
        "        else:\n",
        "            arr[k]=right[j]\n",
        "            icount+=(mid-i)\n",
        "            j+=1\n",
        "        k+=1\n",
        "\n",
        "    while i<len(left):\n",
        "        arr[k]=left[i]\n",
        "        i+=1\n",
        "        k+=1\n",
        "    while j<len(right):\n",
        "        arr[k]=right[j]\n",
        "        j+=1\n",
        "        k+=1\n",
        "\n",
        "    return icount\n",
        "\n",
        "arr=[1, 20, 6, 4, 5]\n",
        "\n",
        "result = countInversion(arr)\n",
        "print(result)"
      ],
      "metadata": {
        "colab": {
          "base_uri": "https://localhost:8080/"
        },
        "id": "fpEp7p0qRMA4",
        "outputId": "32b5f32d-b4f4-44f2-875b-dd9571de1c3f"
      },
      "execution_count": 15,
      "outputs": [
        {
          "output_type": "stream",
          "name": "stdout",
          "text": [
            "5\n"
          ]
        }
      ]
    },
    {
      "cell_type": "code",
      "source": [
        "# @title Slide 41-42\n",
        "def maxSubSum(arr):\n",
        "  max_so_far=0\n",
        "  max_ending_here=0\n",
        "  for i in range(len(arr)):\n",
        "    max_ending_here+=arr[i]\n",
        "    if max_ending_here>max_so_far:\n",
        "      max_so_far=max_ending_here\n",
        "    if max_ending_here<0:\n",
        "      max_ending_here=0\n",
        "  return max_so_far\n",
        "\n",
        "arr=[-2, -5, 6, -2, -3, 1, 5, -6]\n",
        "result=maxSubSum(arr)\n",
        "print(result)"
      ],
      "metadata": {
        "colab": {
          "base_uri": "https://localhost:8080/"
        },
        "id": "SYm5dDDIRgNP",
        "outputId": "4fbada27-b945-468a-f886-513d0fbfe48c"
      },
      "execution_count": 16,
      "outputs": [
        {
          "output_type": "stream",
          "name": "stdout",
          "text": [
            "7\n"
          ]
        }
      ]
    },
    {
      "cell_type": "code",
      "source": [
        "def maxCrossingSum(arr,low,mid,high):\n",
        "  result=0; leftSum=float('-infinity')\n",
        "  for i in range(mid,low-1,-1):\n",
        "    result+=arr[i]\n",
        "    if result>leftSum:\n",
        "      leftSum=result\n",
        "      result=0; rightSum=float('-infinity')\n",
        "  for i in range(mid+1,high+1):\n",
        "    result+=arr[i]\n",
        "    if result>rightSum:\n",
        "      rightSum=result\n",
        "    return leftSum+rightSum\n",
        "\n",
        "def maxSum(arr,low,high):\n",
        "  if low==high:\n",
        "    return arr[low]\n",
        "  mid=(low+high)//2\n",
        "  return max(maxSum(arr,low,mid),maxSum(arr,mid+1,high),maxCrossingSum(arr,low,mid,high))\n",
        "\n",
        "arr=[-2, -5, 6, -2, -3, 1, 5, -6]\n",
        "result=maxSum(arr,0,len(arr)-1)\n",
        "print(result)"
      ],
      "metadata": {
        "colab": {
          "base_uri": "https://localhost:8080/"
        },
        "id": "WaN8uaQ5R1Ur",
        "outputId": "ca1bfb62-3ced-4946-afde-5e35d08952a8"
      },
      "execution_count": 18,
      "outputs": [
        {
          "output_type": "stream",
          "name": "stdout",
          "text": [
            "6\n"
          ]
        }
      ]
    },
    {
      "cell_type": "code",
      "source": [
        "# @title Slide 43\n",
        "def longestCommonPrefix(a):\n",
        "  size=len(a)\n",
        "  if (size==0):\n",
        "    return\"\"\n",
        "  if (size==1):\n",
        "    return a[0]\n",
        "  a.sort()\n",
        "  end=min(len(a[0]),len(a[size-1]))\n",
        "  i=0\n",
        "  while (i<end and a[0][i]==a[size-1][i]):\n",
        "    i+=1\n",
        "  pre=a[0][0:i]\n",
        "  return pre"
      ],
      "metadata": {
        "id": "uBSyVKcXR-9Y"
      },
      "execution_count": 19,
      "outputs": []
    },
    {
      "cell_type": "code",
      "source": [
        "arr=[\"geeksforgeeks\", \"geeks\", \"geek\", \"geezer\"]\n",
        "result=longestCommonPrefix(arr)\n",
        "print(result)"
      ],
      "metadata": {
        "colab": {
          "base_uri": "https://localhost:8080/"
        },
        "id": "xQYoVrorSQay",
        "outputId": "c7e6e829-5ec9-4f53-8901-210cfdaf7f2c"
      },
      "execution_count": 20,
      "outputs": [
        {
          "output_type": "stream",
          "name": "stdout",
          "text": [
            "gee\n"
          ]
        }
      ]
    },
    {
      "cell_type": "code",
      "source": [
        "arr=[\"apple\", \"ape\", \"april\"]\n",
        "result=longestCommonPrefix(arr)\n",
        "print(result)"
      ],
      "metadata": {
        "colab": {
          "base_uri": "https://localhost:8080/"
        },
        "id": "LLkH8d8uSZZh",
        "outputId": "22902d56-0a12-4129-fbc9-9cbc48739ec4"
      },
      "execution_count": 21,
      "outputs": [
        {
          "output_type": "stream",
          "name": "stdout",
          "text": [
            "ap\n"
          ]
        }
      ]
    },
    {
      "cell_type": "code",
      "source": [
        "# @title Slide 44\n",
        "def medianaray(arr1,arr2,n):\n",
        "  m1=-1\n",
        "  m2=-1\n",
        "  count=0\n",
        "  i=j=0\n",
        "  while count<n+1:\n",
        "    count+=1\n",
        "    if i==n:\n",
        "      m1=m2\n",
        "      m2=arr2[0]\n",
        "      break\n",
        "    if j==n:\n",
        "      m1=m2\n",
        "      m2=arr1[0]\n",
        "      break\n",
        "    if arr1[i]<arr2[j]:\n",
        "      m1=m2\n",
        "      m2=arr1[i]\n",
        "      i+=1\n",
        "    else:\n",
        "      m1=m2\n",
        "      m2=arr2[j]\n",
        "      j+=1\n",
        "  return (m1+m2)//2\n",
        "\n",
        "arr1=[1, 12, 15, 26, 38]\n",
        "arr2=[2, 13, 17, 30, 45]\n",
        "print(medianaray(arr1,arr2,len(arr1)))"
      ],
      "metadata": {
        "colab": {
          "base_uri": "https://localhost:8080/"
        },
        "id": "xNdoh_SNSfPn",
        "outputId": "44212201-eea9-4206-aa52-eac673d3dc82"
      },
      "execution_count": 22,
      "outputs": [
        {
          "output_type": "stream",
          "name": "stdout",
          "text": [
            "16\n"
          ]
        }
      ]
    },
    {
      "cell_type": "code",
      "source": [
        "# @title Slide 47\n",
        "def Solution(arr):\n",
        "  n=len(arr)\n",
        "  if n%2 == 0:\n",
        "    z=n//2\n",
        "    x=arr[z-1]\n",
        "    y=arr[z]\n",
        "    ans=(e+q)/2\n",
        "  else:\n",
        "    z=n//2\n",
        "    ans=arr[z]\n",
        "  return ans\n",
        "\n",
        "arr1=[-5, 3, 6, 12, 15]\n",
        "arr2=[-12, -10, -6, -3, 4, 10]\n",
        "arr3=arr1+arr2\n",
        "arr3.sort()\n",
        "print(\"Median = \", Solution(arr3))"
      ],
      "metadata": {
        "colab": {
          "base_uri": "https://localhost:8080/"
        },
        "id": "P-eey39ESloD",
        "outputId": "c010e947-36ec-468e-cb7f-23d16bfa899a"
      },
      "execution_count": 23,
      "outputs": [
        {
          "output_type": "stream",
          "name": "stdout",
          "text": [
            "Median =  3\n"
          ]
        }
      ]
    },
    {
      "cell_type": "code",
      "source": [
        "# @title Slide 48\n",
        "def floorSorted(arr,low,high,x):\n",
        "  if low>high:\n",
        "    return -1\n",
        "  if arr[low]>x:\n",
        "    return -1\n",
        "  if arr[high]<=x:\n",
        "    return arr[high]\n",
        "  mid=(low+high)//2\n",
        "  if arr[mid]==x:\n",
        "    return arr[mid]\n",
        "  if mid>0 and x>=arr[mid-1] and arr[mid]>x:\n",
        "    return arr[mid-1]\n",
        "  if mid<high and x<arr[mid+1] and x>=arr[mid]:\n",
        "    return arr[mid]\n",
        "  if x>arr[mid]:\n",
        "      return floorSorted(arr,mid+1,high,x)\n",
        "  else:\n",
        "    return floorSorted(arr,low,mid-1,x)\n",
        "\n",
        "arr=[1,2,8,10,12,14,19]\n",
        "\n",
        "x=5\n",
        "\n",
        "print(floorSorted(arr,0,len(arr)-1,x))"
      ],
      "metadata": {
        "colab": {
          "base_uri": "https://localhost:8080/"
        },
        "id": "ys4RBu9AS2au",
        "outputId": "6859c5d3-738a-4126-e7a7-05d0ee796bc5"
      },
      "execution_count": 24,
      "outputs": [
        {
          "output_type": "stream",
          "name": "stdout",
          "text": [
            "2\n"
          ]
        }
      ]
    },
    {
      "cell_type": "code",
      "source": [
        "# @title Slide 49-50\n",
        "def closestNumber(arr, low, high, x):\n",
        "    if low > high:\n",
        "        return None\n",
        "\n",
        "    if arr[high] <= x:\n",
        "        return arr[high]\n",
        "\n",
        "    if arr[low] >= x:\n",
        "        return arr[low]\n",
        "\n",
        "    mid = (low + high) // 2\n",
        "\n",
        "    if arr[mid] == x:\n",
        "        return arr[mid]\n",
        "\n",
        "    abs_mid = abs(arr[mid] - x)\n",
        "\n",
        "    if mid > 0:\n",
        "        abs_left = abs(arr[mid - 1] - x)\n",
        "        if abs_left < abs_mid:\n",
        "            return closestNumber(arr, low, mid - 1, x)\n",
        "\n",
        "    if mid < high:\n",
        "        abs_right = abs(arr[mid + 1] - x)\n",
        "        if abs_right < abs_mid:\n",
        "            return closestNumber(arr, mid + 1, high, x)\n",
        "\n",
        "    return arr[mid]\n",
        "\n",
        "arr = [2, 5, 6, 7, 8, 8, 9]\n",
        "x = 9\n",
        "print(closestNumber(arr, 0, len(arr) - 1, x))"
      ],
      "metadata": {
        "colab": {
          "base_uri": "https://localhost:8080/"
        },
        "id": "-Mm_hCR1S_uM",
        "outputId": "abc2ff96-050b-47ba-c80b-1415889e1945"
      },
      "execution_count": 25,
      "outputs": [
        {
          "output_type": "stream",
          "name": "stdout",
          "text": [
            "9\n"
          ]
        }
      ]
    },
    {
      "cell_type": "code",
      "source": [
        "def find_closest(lst, k):\n",
        "    closest_num = lst[0]\n",
        "    for num in lst:\n",
        "        if abs(num - k) < abs(closest_num - k):\n",
        "            closest_num = num\n",
        "        if num > k:\n",
        "            break\n",
        "    return closest_num\n",
        "\n",
        "lst = [2, 5, 6, 7, 8, 8, 9]\n",
        "k = 9\n",
        "print(find_closest(lst, k))"
      ],
      "metadata": {
        "colab": {
          "base_uri": "https://localhost:8080/"
        },
        "id": "IkzEbSB2TSfz",
        "outputId": "389747c3-a492-409d-a05c-ab35f4ee41ee"
      },
      "execution_count": 26,
      "outputs": [
        {
          "output_type": "stream",
          "name": "stdout",
          "text": [
            "9\n"
          ]
        }
      ]
    },
    {
      "cell_type": "code",
      "source": [
        "# @title Slide 51\n",
        "def fixedPoint(arr, low, high):\n",
        "    if low > high:\n",
        "        return -1\n",
        "    if arr[high] == high:\n",
        "        return arr[high]\n",
        "    if arr[low] == low:\n",
        "        return arr[low]\n",
        "    mid=(low+high)//2\n",
        "    if arr[mid]==mid:\n",
        "      return arr[mid]\n",
        "    if mid>arr[mid]:\n",
        "      return fixedPoint(arr,mid+1,high)\n",
        "    else:\n",
        "      return fixedPoint(arr,low,mid-1)\n",
        "\n",
        "arr=[9,1,4,5,2]\n",
        "print(fixedPoint(arr,0,len(arr)-1))"
      ],
      "metadata": {
        "colab": {
          "base_uri": "https://localhost:8080/"
        },
        "id": "c7Sow6GZTW9o",
        "outputId": "e73a47c8-76a4-4358-b5d1-dfe341de6227"
      },
      "execution_count": 27,
      "outputs": [
        {
          "output_type": "stream",
          "name": "stdout",
          "text": [
            "1\n"
          ]
        }
      ]
    }
  ]
}